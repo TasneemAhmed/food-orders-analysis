{
  "nbformat": 4,
  "nbformat_minor": 0,
  "metadata": {
    "colab": {
      "name": "GAD_Orders.ipynb",
      "provenance": [],
      "collapsed_sections": [],
      "authorship_tag": "ABX9TyP28aGbSCwnb62iMvwt/ARO",
      "include_colab_link": true
    },
    "kernelspec": {
      "name": "python3",
      "display_name": "Python 3"
    },
    "language_info": {
      "name": "python"
    }
  },
  "cells": [
    {
      "cell_type": "markdown",
      "metadata": {
        "id": "view-in-github",
        "colab_type": "text"
      },
      "source": [
        "<a href=\"https://colab.research.google.com/github/TasneemAhmed/food-orders-analysis/blob/main/GAD_Orders.ipynb\" target=\"_parent\"><img src=\"https://colab.research.google.com/assets/colab-badge.svg\" alt=\"Open In Colab\"/></a>"
      ]
    },
    {
      "cell_type": "code",
      "metadata": {
        "id": "uPNqYM2deyo_"
      },
      "source": [
        "import pandas as pd"
      ],
      "execution_count": 1,
      "outputs": []
    },
    {
      "cell_type": "code",
      "metadata": {
        "colab": {
          "base_uri": "https://localhost:8080/",
          "height": 203
        },
        "id": "XnQm1Kakn--c",
        "outputId": "9aba9d50-2d8d-4216-dab3-ce6d3d602d99"
      },
      "source": [
        "df = pd.read_csv('/food_orders.csv')\n",
        "df.head()"
      ],
      "execution_count": 3,
      "outputs": [
        {
          "output_type": "execute_result",
          "data": {
            "text/html": [
              "<div>\n",
              "<style scoped>\n",
              "    .dataframe tbody tr th:only-of-type {\n",
              "        vertical-align: middle;\n",
              "    }\n",
              "\n",
              "    .dataframe tbody tr th {\n",
              "        vertical-align: top;\n",
              "    }\n",
              "\n",
              "    .dataframe thead th {\n",
              "        text-align: right;\n",
              "    }\n",
              "</style>\n",
              "<table border=\"1\" class=\"dataframe\">\n",
              "  <thead>\n",
              "    <tr style=\"text-align: right;\">\n",
              "      <th></th>\n",
              "      <th>order_id</th>\n",
              "      <th>customer_id</th>\n",
              "      <th>item_name</th>\n",
              "      <th>item_price</th>\n",
              "      <th>date</th>\n",
              "    </tr>\n",
              "  </thead>\n",
              "  <tbody>\n",
              "    <tr>\n",
              "      <th>0</th>\n",
              "      <td>1</td>\n",
              "      <td>1</td>\n",
              "      <td>falafel</td>\n",
              "      <td>5</td>\n",
              "      <td>11/11/2011</td>\n",
              "    </tr>\n",
              "    <tr>\n",
              "      <th>1</th>\n",
              "      <td>2</td>\n",
              "      <td>1</td>\n",
              "      <td>kofta</td>\n",
              "      <td>8</td>\n",
              "      <td>12/12/2012</td>\n",
              "    </tr>\n",
              "    <tr>\n",
              "      <th>2</th>\n",
              "      <td>3</td>\n",
              "      <td>1</td>\n",
              "      <td>chicken</td>\n",
              "      <td>44</td>\n",
              "      <td>10/10/2011</td>\n",
              "    </tr>\n",
              "    <tr>\n",
              "      <th>3</th>\n",
              "      <td>4</td>\n",
              "      <td>1</td>\n",
              "      <td>falafel</td>\n",
              "      <td>5</td>\n",
              "      <td>9/9/2009</td>\n",
              "    </tr>\n",
              "    <tr>\n",
              "      <th>4</th>\n",
              "      <td>5</td>\n",
              "      <td>1</td>\n",
              "      <td>falafel</td>\n",
              "      <td>5</td>\n",
              "      <td>9/9/2009</td>\n",
              "    </tr>\n",
              "  </tbody>\n",
              "</table>\n",
              "</div>"
            ],
            "text/plain": [
              "   order_id  customer_id item_name  item_price        date\n",
              "0         1            1   falafel           5  11/11/2011\n",
              "1         2            1     kofta           8  12/12/2012\n",
              "2         3            1   chicken          44  10/10/2011\n",
              "3         4            1   falafel           5    9/9/2009\n",
              "4         5            1   falafel           5    9/9/2009"
            ]
          },
          "metadata": {},
          "execution_count": 3
        }
      ]
    },
    {
      "cell_type": "code",
      "metadata": {
        "colab": {
          "base_uri": "https://localhost:8080/",
          "height": 203
        },
        "id": "ft0uNmpdoWyw",
        "outputId": "14d06f4a-b951-4309-9216-689c270f6952"
      },
      "source": [
        "excel = pd.read_excel('/food_orders.xlsx', engine='openpyxl')\n",
        "excel.head()"
      ],
      "execution_count": 5,
      "outputs": [
        {
          "output_type": "execute_result",
          "data": {
            "text/html": [
              "<div>\n",
              "<style scoped>\n",
              "    .dataframe tbody tr th:only-of-type {\n",
              "        vertical-align: middle;\n",
              "    }\n",
              "\n",
              "    .dataframe tbody tr th {\n",
              "        vertical-align: top;\n",
              "    }\n",
              "\n",
              "    .dataframe thead th {\n",
              "        text-align: right;\n",
              "    }\n",
              "</style>\n",
              "<table border=\"1\" class=\"dataframe\">\n",
              "  <thead>\n",
              "    <tr style=\"text-align: right;\">\n",
              "      <th></th>\n",
              "      <th>order_id</th>\n",
              "      <th>customer_id</th>\n",
              "      <th>item_name</th>\n",
              "      <th>item_price</th>\n",
              "      <th>date</th>\n",
              "    </tr>\n",
              "  </thead>\n",
              "  <tbody>\n",
              "    <tr>\n",
              "      <th>0</th>\n",
              "      <td>1</td>\n",
              "      <td>1</td>\n",
              "      <td>falafel</td>\n",
              "      <td>5</td>\n",
              "      <td>2011-11-11</td>\n",
              "    </tr>\n",
              "    <tr>\n",
              "      <th>1</th>\n",
              "      <td>2</td>\n",
              "      <td>1</td>\n",
              "      <td>kofta</td>\n",
              "      <td>8</td>\n",
              "      <td>2012-12-12</td>\n",
              "    </tr>\n",
              "    <tr>\n",
              "      <th>2</th>\n",
              "      <td>3</td>\n",
              "      <td>1</td>\n",
              "      <td>chicken</td>\n",
              "      <td>44</td>\n",
              "      <td>2011-10-10</td>\n",
              "    </tr>\n",
              "    <tr>\n",
              "      <th>3</th>\n",
              "      <td>4</td>\n",
              "      <td>1</td>\n",
              "      <td>falafel</td>\n",
              "      <td>5</td>\n",
              "      <td>2009-09-09</td>\n",
              "    </tr>\n",
              "    <tr>\n",
              "      <th>4</th>\n",
              "      <td>5</td>\n",
              "      <td>1</td>\n",
              "      <td>falafel</td>\n",
              "      <td>5</td>\n",
              "      <td>2009-09-09</td>\n",
              "    </tr>\n",
              "  </tbody>\n",
              "</table>\n",
              "</div>"
            ],
            "text/plain": [
              "   order_id  customer_id item_name  item_price       date\n",
              "0         1            1   falafel           5 2011-11-11\n",
              "1         2            1     kofta           8 2012-12-12\n",
              "2         3            1   chicken          44 2011-10-10\n",
              "3         4            1   falafel           5 2009-09-09\n",
              "4         5            1   falafel           5 2009-09-09"
            ]
          },
          "metadata": {},
          "execution_count": 5
        }
      ]
    },
    {
      "cell_type": "code",
      "metadata": {
        "id": "ty5-dEjeo576"
      },
      "source": [
        "file_name = '/food_orders.xlsx'"
      ],
      "execution_count": 12,
      "outputs": []
    },
    {
      "cell_type": "code",
      "metadata": {
        "id": "BCWpkBxWpx2x"
      },
      "source": [
        "def read_any_excel(file_name):\n",
        "  file_exstension = file_name.split('.')[-1]\n",
        "  if(file_exstension == 'xlsx'):\n",
        "    read_engine = 'openpyxl'\n",
        "  elif(file_exstension == 'xls'):\n",
        "    read_engine = 'xlrd'\n",
        "  \n",
        "  final_output = pd.read_excel(file_name, engine= read_engine)\n",
        "  return final_output"
      ],
      "execution_count": 15,
      "outputs": []
    },
    {
      "cell_type": "code",
      "metadata": {
        "colab": {
          "base_uri": "https://localhost:8080/",
          "height": 203
        },
        "id": "dBCAj3RDpCjF",
        "outputId": "a7678630-9a7a-4fc2-df82-c41d0718d009"
      },
      "source": [
        "df_excel = read_any_excel(file_name)\n",
        "df_excel.head()"
      ],
      "execution_count": 17,
      "outputs": [
        {
          "output_type": "execute_result",
          "data": {
            "text/html": [
              "<div>\n",
              "<style scoped>\n",
              "    .dataframe tbody tr th:only-of-type {\n",
              "        vertical-align: middle;\n",
              "    }\n",
              "\n",
              "    .dataframe tbody tr th {\n",
              "        vertical-align: top;\n",
              "    }\n",
              "\n",
              "    .dataframe thead th {\n",
              "        text-align: right;\n",
              "    }\n",
              "</style>\n",
              "<table border=\"1\" class=\"dataframe\">\n",
              "  <thead>\n",
              "    <tr style=\"text-align: right;\">\n",
              "      <th></th>\n",
              "      <th>order_id</th>\n",
              "      <th>customer_id</th>\n",
              "      <th>item_name</th>\n",
              "      <th>item_price</th>\n",
              "      <th>date</th>\n",
              "    </tr>\n",
              "  </thead>\n",
              "  <tbody>\n",
              "    <tr>\n",
              "      <th>0</th>\n",
              "      <td>1</td>\n",
              "      <td>1</td>\n",
              "      <td>falafel</td>\n",
              "      <td>5</td>\n",
              "      <td>2011-11-11</td>\n",
              "    </tr>\n",
              "    <tr>\n",
              "      <th>1</th>\n",
              "      <td>2</td>\n",
              "      <td>1</td>\n",
              "      <td>kofta</td>\n",
              "      <td>8</td>\n",
              "      <td>2012-12-12</td>\n",
              "    </tr>\n",
              "    <tr>\n",
              "      <th>2</th>\n",
              "      <td>3</td>\n",
              "      <td>1</td>\n",
              "      <td>chicken</td>\n",
              "      <td>44</td>\n",
              "      <td>2011-10-10</td>\n",
              "    </tr>\n",
              "    <tr>\n",
              "      <th>3</th>\n",
              "      <td>4</td>\n",
              "      <td>1</td>\n",
              "      <td>falafel</td>\n",
              "      <td>5</td>\n",
              "      <td>2009-09-09</td>\n",
              "    </tr>\n",
              "    <tr>\n",
              "      <th>4</th>\n",
              "      <td>5</td>\n",
              "      <td>1</td>\n",
              "      <td>falafel</td>\n",
              "      <td>5</td>\n",
              "      <td>2009-09-09</td>\n",
              "    </tr>\n",
              "  </tbody>\n",
              "</table>\n",
              "</div>"
            ],
            "text/plain": [
              "   order_id  customer_id item_name  item_price       date\n",
              "0         1            1   falafel           5 2011-11-11\n",
              "1         2            1     kofta           8 2012-12-12\n",
              "2         3            1   chicken          44 2011-10-10\n",
              "3         4            1   falafel           5 2009-09-09\n",
              "4         5            1   falafel           5 2009-09-09"
            ]
          },
          "metadata": {},
          "execution_count": 17
        }
      ]
    },
    {
      "cell_type": "code",
      "metadata": {
        "colab": {
          "base_uri": "https://localhost:8080/"
        },
        "id": "V76VXRtJr38d",
        "outputId": "6d637e62-9471-413e-c6b1-7f9d0b583299"
      },
      "source": [
        "df_excel.to_gbq(destination_table = 'Gad_food_resturant.food_orders_df', project_id = 'dataanalysis-1stmeeting')"
      ],
      "execution_count": 22,
      "outputs": [
        {
          "name": "stdout",
          "output_type": "stream",
          "text": [
            "Please visit this URL to authorize this application: https://accounts.google.com/o/oauth2/auth?response_type=code&client_id=725825577420-unm2gnkiprugilg743tkbig250f4sfsj.apps.googleusercontent.com&redirect_uri=urn%3Aietf%3Awg%3Aoauth%3A2.0%3Aoob&scope=https%3A%2F%2Fwww.googleapis.com%2Fauth%2Fbigquery&state=uKjx5geN0SIjspveJkVS8F4MljAx2Q&prompt=consent&access_type=offline\n",
            "Enter the authorization code: 4/1AX4XfWjNHfREDgVigyG9VZb4t4labx46KC6uyhfp8L8_Xxmx0FEUHRpo0MQ\n"
          ]
        },
        {
          "output_type": "stream",
          "name": "stderr",
          "text": [
            "1it [00:05,  5.67s/it]\n"
          ]
        }
      ]
    },
    {
      "cell_type": "code",
      "metadata": {
        "colab": {
          "base_uri": "https://localhost:8080/",
          "height": 850
        },
        "id": "WLUgFR8Ht-Fn",
        "outputId": "2f237040-bcaf-454e-b358-e4416afd5162"
      },
      "source": [
        "df_excel_transform = df_excel.drop(['customer_id'], axis=1)\n",
        "df_excel_transform"
      ],
      "execution_count": 29,
      "outputs": [
        {
          "output_type": "execute_result",
          "data": {
            "text/html": [
              "<div>\n",
              "<style scoped>\n",
              "    .dataframe tbody tr th:only-of-type {\n",
              "        vertical-align: middle;\n",
              "    }\n",
              "\n",
              "    .dataframe tbody tr th {\n",
              "        vertical-align: top;\n",
              "    }\n",
              "\n",
              "    .dataframe thead th {\n",
              "        text-align: right;\n",
              "    }\n",
              "</style>\n",
              "<table border=\"1\" class=\"dataframe\">\n",
              "  <thead>\n",
              "    <tr style=\"text-align: right;\">\n",
              "      <th></th>\n",
              "      <th>order_id</th>\n",
              "      <th>item_name</th>\n",
              "      <th>item_price</th>\n",
              "      <th>date</th>\n",
              "    </tr>\n",
              "  </thead>\n",
              "  <tbody>\n",
              "    <tr>\n",
              "      <th>0</th>\n",
              "      <td>1</td>\n",
              "      <td>falafel</td>\n",
              "      <td>5</td>\n",
              "      <td>2011-11-11</td>\n",
              "    </tr>\n",
              "    <tr>\n",
              "      <th>1</th>\n",
              "      <td>2</td>\n",
              "      <td>kofta</td>\n",
              "      <td>8</td>\n",
              "      <td>2012-12-12</td>\n",
              "    </tr>\n",
              "    <tr>\n",
              "      <th>2</th>\n",
              "      <td>3</td>\n",
              "      <td>chicken</td>\n",
              "      <td>44</td>\n",
              "      <td>2011-10-10</td>\n",
              "    </tr>\n",
              "    <tr>\n",
              "      <th>3</th>\n",
              "      <td>4</td>\n",
              "      <td>falafel</td>\n",
              "      <td>5</td>\n",
              "      <td>2009-09-09</td>\n",
              "    </tr>\n",
              "    <tr>\n",
              "      <th>4</th>\n",
              "      <td>5</td>\n",
              "      <td>falafel</td>\n",
              "      <td>5</td>\n",
              "      <td>2009-09-09</td>\n",
              "    </tr>\n",
              "    <tr>\n",
              "      <th>5</th>\n",
              "      <td>6</td>\n",
              "      <td>kofta</td>\n",
              "      <td>8</td>\n",
              "      <td>2009-12-09</td>\n",
              "    </tr>\n",
              "    <tr>\n",
              "      <th>6</th>\n",
              "      <td>7</td>\n",
              "      <td>Hawawshy</td>\n",
              "      <td>22</td>\n",
              "      <td>2009-09-14</td>\n",
              "    </tr>\n",
              "    <tr>\n",
              "      <th>7</th>\n",
              "      <td>8</td>\n",
              "      <td>Hawawshy</td>\n",
              "      <td>22</td>\n",
              "      <td>2009-09-17</td>\n",
              "    </tr>\n",
              "    <tr>\n",
              "      <th>8</th>\n",
              "      <td>9</td>\n",
              "      <td>chicken</td>\n",
              "      <td>44</td>\n",
              "      <td>2011-11-11</td>\n",
              "    </tr>\n",
              "    <tr>\n",
              "      <th>9</th>\n",
              "      <td>10</td>\n",
              "      <td>kofta</td>\n",
              "      <td>8</td>\n",
              "      <td>2011-11-11</td>\n",
              "    </tr>\n",
              "    <tr>\n",
              "      <th>10</th>\n",
              "      <td>11</td>\n",
              "      <td>falafel</td>\n",
              "      <td>5</td>\n",
              "      <td>2011-10-10</td>\n",
              "    </tr>\n",
              "    <tr>\n",
              "      <th>11</th>\n",
              "      <td>12</td>\n",
              "      <td>chicken</td>\n",
              "      <td>44</td>\n",
              "      <td>2009-09-09</td>\n",
              "    </tr>\n",
              "    <tr>\n",
              "      <th>12</th>\n",
              "      <td>13</td>\n",
              "      <td>kofta</td>\n",
              "      <td>8</td>\n",
              "      <td>2012-12-12</td>\n",
              "    </tr>\n",
              "    <tr>\n",
              "      <th>13</th>\n",
              "      <td>14</td>\n",
              "      <td>kofta</td>\n",
              "      <td>8</td>\n",
              "      <td>2011-11-14</td>\n",
              "    </tr>\n",
              "    <tr>\n",
              "      <th>14</th>\n",
              "      <td>15</td>\n",
              "      <td>kofta</td>\n",
              "      <td>8</td>\n",
              "      <td>2009-11-28</td>\n",
              "    </tr>\n",
              "    <tr>\n",
              "      <th>15</th>\n",
              "      <td>16</td>\n",
              "      <td>shawerma</td>\n",
              "      <td>15</td>\n",
              "      <td>2012-11-14</td>\n",
              "    </tr>\n",
              "    <tr>\n",
              "      <th>16</th>\n",
              "      <td>17</td>\n",
              "      <td>shawerma</td>\n",
              "      <td>15</td>\n",
              "      <td>2009-09-09</td>\n",
              "    </tr>\n",
              "    <tr>\n",
              "      <th>17</th>\n",
              "      <td>18</td>\n",
              "      <td>kofta</td>\n",
              "      <td>8</td>\n",
              "      <td>2009-09-09</td>\n",
              "    </tr>\n",
              "    <tr>\n",
              "      <th>18</th>\n",
              "      <td>19</td>\n",
              "      <td>falafel</td>\n",
              "      <td>5</td>\n",
              "      <td>2009-09-09</td>\n",
              "    </tr>\n",
              "    <tr>\n",
              "      <th>19</th>\n",
              "      <td>20</td>\n",
              "      <td>Hawawshy</td>\n",
              "      <td>22</td>\n",
              "      <td>2009-09-17</td>\n",
              "    </tr>\n",
              "    <tr>\n",
              "      <th>20</th>\n",
              "      <td>21</td>\n",
              "      <td>chicken</td>\n",
              "      <td>44</td>\n",
              "      <td>2012-09-14</td>\n",
              "    </tr>\n",
              "    <tr>\n",
              "      <th>21</th>\n",
              "      <td>21</td>\n",
              "      <td>kofta</td>\n",
              "      <td>8</td>\n",
              "      <td>2011-11-11</td>\n",
              "    </tr>\n",
              "    <tr>\n",
              "      <th>22</th>\n",
              "      <td>22</td>\n",
              "      <td>chicken</td>\n",
              "      <td>44</td>\n",
              "      <td>2011-10-10</td>\n",
              "    </tr>\n",
              "    <tr>\n",
              "      <th>23</th>\n",
              "      <td>23</td>\n",
              "      <td>falafel</td>\n",
              "      <td>5</td>\n",
              "      <td>2009-09-17</td>\n",
              "    </tr>\n",
              "    <tr>\n",
              "      <th>24</th>\n",
              "      <td>24</td>\n",
              "      <td>shawerma</td>\n",
              "      <td>15</td>\n",
              "      <td>2009-09-14</td>\n",
              "    </tr>\n",
              "    <tr>\n",
              "      <th>25</th>\n",
              "      <td>25</td>\n",
              "      <td>chicken</td>\n",
              "      <td>44</td>\n",
              "      <td>2011-10-10</td>\n",
              "    </tr>\n",
              "  </tbody>\n",
              "</table>\n",
              "</div>"
            ],
            "text/plain": [
              "    order_id item_name  item_price       date\n",
              "0          1   falafel           5 2011-11-11\n",
              "1          2     kofta           8 2012-12-12\n",
              "2          3   chicken          44 2011-10-10\n",
              "3          4   falafel           5 2009-09-09\n",
              "4          5   falafel           5 2009-09-09\n",
              "5          6     kofta           8 2009-12-09\n",
              "6          7  Hawawshy          22 2009-09-14\n",
              "7          8  Hawawshy          22 2009-09-17\n",
              "8          9   chicken          44 2011-11-11\n",
              "9         10     kofta           8 2011-11-11\n",
              "10        11   falafel           5 2011-10-10\n",
              "11        12   chicken          44 2009-09-09\n",
              "12        13     kofta           8 2012-12-12\n",
              "13        14     kofta           8 2011-11-14\n",
              "14        15     kofta           8 2009-11-28\n",
              "15        16  shawerma          15 2012-11-14\n",
              "16        17  shawerma          15 2009-09-09\n",
              "17        18     kofta           8 2009-09-09\n",
              "18        19   falafel           5 2009-09-09\n",
              "19        20  Hawawshy          22 2009-09-17\n",
              "20        21   chicken          44 2012-09-14\n",
              "21        21     kofta           8 2011-11-11\n",
              "22        22   chicken          44 2011-10-10\n",
              "23        23   falafel           5 2009-09-17\n",
              "24        24  shawerma          15 2009-09-14\n",
              "25        25   chicken          44 2011-10-10"
            ]
          },
          "metadata": {},
          "execution_count": 29
        }
      ]
    },
    {
      "cell_type": "code",
      "metadata": {
        "colab": {
          "base_uri": "https://localhost:8080/"
        },
        "id": "RZp5mZWmu0cu",
        "outputId": "de08c04c-c0bb-4a10-fbed-099807cb603b"
      },
      "source": [
        "df_excel_transform.to_gbq(destination_table= 'Gad_food_resturant.food_orders_df_transform', project_id = 'dataanalysis-1stmeeting')"
      ],
      "execution_count": 30,
      "outputs": [
        {
          "output_type": "stream",
          "name": "stderr",
          "text": [
            "1it [00:03,  3.51s/it]\n"
          ]
        }
      ]
    }
  ]
}